{
 "cells": [
  {
   "cell_type": "markdown",
   "id": "40f5311a-9746-40a0-a10d-9f02248d1ede",
   "metadata": {},
   "source": [
    "# Historical Q&A Bot with LangChain\n",
    "**This project is based on historical question generation and user interaction regarding to the questions that generated\".**"
   ]
  },
  {
   "cell_type": "code",
   "execution_count": 13,
   "id": "b7e3965e-f4de-489a-967e-87dd10b446b8",
   "metadata": {},
   "outputs": [],
   "source": [
    "from langchain.prompts import (\n",
    "    ChatPromptTemplate,\n",
    "    PromptTemplate,\n",
    "    SystemMessagePromptTemplate,\n",
    "    AIMessagePromptTemplate,\n",
    "    HumanMessagePromptTemplate,\n",
    ")\n",
    "from datetime import datetime\n",
    "from langchain.llms import OpenAI\n",
    "from langchain.output_parsers import DatetimeOutputParser\n",
    "from langchain.chat_models import ChatOpenAI"
   ]
  },
  {
   "cell_type": "code",
   "execution_count": 15,
   "id": "8458781d-5130-4073-bda1-98330a23c98d",
   "metadata": {},
   "outputs": [],
   "source": [
    "import os \n",
    "os.chdir(\"C:\\\\Users\\\\Burk\\\\Desktop\\\\Folders\\\\\")\n",
    "api_key = open(\"openai api.txt\",\"r+\").read()"
   ]
  },
  {
   "cell_type": "code",
   "execution_count": 17,
   "id": "f0897bfc-f65d-4e3d-a0f8-9e26ab2a2605",
   "metadata": {},
   "outputs": [],
   "source": [
    "class HistoryQuiz():\n",
    "    def create_history_question(self,topic):\n",
    "        system_template = \"You are an AI History Question Generator.\"\n",
    "        system_message_prompt = SystemMessagePromptTemplate.from_template(system_template)\n",
    "        human_template = \"{topic}\\n{history_question_generation_request}\"\n",
    "        human_message_prompt = HumanMessagePromptTemplate.from_template(human_template)\n",
    "        chat_prompt = ChatPromptTemplate.from_messages([system_message_prompt,human_message_prompt])\n",
    "        request = chat_prompt.format_prompt(topic=topic,history_question_generation_request=\"Please generate a historical date question about {topic}\").to_messages()\n",
    "        model = ChatOpenAI(api_key=api_key)\n",
    "        question = model(request)\n",
    "        return question.content\n",
    "    \n",
    "    def get_AI_answer(self,question):\n",
    "        output_parser = DatetimeOutputParser()\n",
    "        system_template = \"You answer the questions only with date\"\n",
    "        system_message_prompt = SystemMessagePromptTemplate.from_template(system_template)\n",
    "        human_template = \"\"\"Answer the user's question :\n",
    "        {question}\n",
    "        {format_instructions}\"\"\"\n",
    "        human_message_prompt = HumanMessagePromptTemplate.from_template(human_template)\n",
    "        chat_prompt = ChatPromptTemplate.from_messages([system_message_prompt,human_message_prompt])\n",
    "        request = chat_prompt.format_prompt(question=question,format_instructions=output_parser.get_format_instructions()).to_messages()\n",
    "        model = ChatOpenAI(api_key=api_key)\n",
    "        result = model(request)\n",
    "        correct_datetime = output_parser.parse(result.content)\n",
    "        return correct_datetime\n",
    "    \n",
    "    def get_user_answer(self,question):\n",
    "        print(question)\n",
    "        # Get the year, month, and day from the user\n",
    "        year = int(input(\"Enter the year: \"))\n",
    "        month = int(input(\"Enter the month (1-12): \"))\n",
    "        day = int(input(\"Enter the day (1-31): \"))\n",
    "        # Create a datetime object\n",
    "        user_datetime = datetime(year, month, day)\n",
    "        return user_datetime\n",
    "        \n",
    "        \n",
    "    def check_user_answer(self,user_answer,ai_answer):\n",
    "        difference = user_answer - ai_answer\n",
    "        # Format the difference into a string\n",
    "        formatted_difference = str(difference)\n",
    "        # Return the string reporting the difference\n",
    "        print(\"The difference between the dates is:\", formatted_difference)\n",
    "        "
   ]
  },
  {
   "cell_type": "code",
   "execution_count": 21,
   "id": "fbdbdec0-955b-4ed2-b8d2-f4149ed28361",
   "metadata": {},
   "outputs": [],
   "source": [
    "quiz_bot = HistoryQuiz()\n",
    "question = quiz_bot.create_history_question(topic='Mozart')"
   ]
  },
  {
   "cell_type": "code",
   "execution_count": 23,
   "id": "407ae625-cb0e-4d6d-86da-521934c385c1",
   "metadata": {},
   "outputs": [
    {
     "data": {
      "text/plain": [
       "'When did Wolfgang Amadeus Mozart compose his famous opera \"The Marriage of Figaro\"?'"
      ]
     },
     "execution_count": 23,
     "metadata": {},
     "output_type": "execute_result"
    }
   ],
   "source": [
    "question"
   ]
  },
  {
   "cell_type": "code",
   "execution_count": 25,
   "id": "ca49bc6d-ed41-481d-94f4-13d8f7689669",
   "metadata": {},
   "outputs": [],
   "source": [
    "ai_answer = quiz_bot.get_AI_answer(question)"
   ]
  },
  {
   "cell_type": "code",
   "execution_count": 27,
   "id": "c614e970-e5fd-4504-be65-4d7151dfc00f",
   "metadata": {},
   "outputs": [
    {
     "data": {
      "text/plain": [
       "datetime.datetime(1786, 5, 1, 0, 0)"
      ]
     },
     "execution_count": 27,
     "metadata": {},
     "output_type": "execute_result"
    }
   ],
   "source": [
    "ai_answer"
   ]
  },
  {
   "cell_type": "code",
   "execution_count": 29,
   "id": "e042289a-90ee-4e1e-ac15-2bb0c0f083be",
   "metadata": {},
   "outputs": [
    {
     "name": "stdout",
     "output_type": "stream",
     "text": [
      "When did Wolfgang Amadeus Mozart compose his famous opera \"The Marriage of Figaro\"?\n"
     ]
    },
    {
     "name": "stdin",
     "output_type": "stream",
     "text": [
      "Enter the year:  1788\n",
      "Enter the month (1-12):  5\n",
      "Enter the day (1-31):  1\n"
     ]
    }
   ],
   "source": [
    "user_answer = quiz_bot.get_user_answer(question)"
   ]
  },
  {
   "cell_type": "code",
   "execution_count": 31,
   "id": "f095f3f8-c792-4280-ad45-d51ed42b899a",
   "metadata": {},
   "outputs": [
    {
     "name": "stdout",
     "output_type": "stream",
     "text": [
      "The difference between the dates is: 731 days, 0:00:00\n"
     ]
    }
   ],
   "source": [
    "quiz_bot.check_user_answer(user_answer,ai_answer)"
   ]
  }
 ],
 "metadata": {
  "kernelspec": {
   "display_name": "Python 3 (ipykernel)",
   "language": "python",
   "name": "python3"
  },
  "language_info": {
   "codemirror_mode": {
    "name": "ipython",
    "version": 3
   },
   "file_extension": ".py",
   "mimetype": "text/x-python",
   "name": "python",
   "nbconvert_exporter": "python",
   "pygments_lexer": "ipython3",
   "version": "3.12.4"
  }
 },
 "nbformat": 4,
 "nbformat_minor": 5
}
